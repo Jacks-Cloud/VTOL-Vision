{
 "cells": [
  {
   "cell_type": "markdown",
   "id": "198d0a58-fca0-476e-bc47-1729d5dc9894",
   "metadata": {},
   "source": [
    "# Controls Calculations\n",
    "---\n",
    "imports needed for this notebook"
   ]
  },
  {
   "cell_type": "code",
   "execution_count": 1,
   "id": "d48249aa-02b1-4fba-9b9c-fd196924a460",
   "metadata": {
    "tags": []
   },
   "outputs": [],
   "source": [
    "import numpy as np"
   ]
  },
  {
   "cell_type": "markdown",
   "id": "876e6f43-7d36-46e5-bdf2-55f9ced1d931",
   "metadata": {},
   "source": [
    "## Working variables\n",
    "---\n",
    "Information pulled using the following Python Notebooks:\n",
    "\n",
    "- [New_Wing_Calculations](https://github.com/Jacks-Cloud/VTOL-Vision/blob/main/New_Wing_Calculations.ipynb)\n",
    "\n",
    "- [vertical_stabilizer](https://github.com/Jacks-Cloud/VTOL-Vision/blob/main/vertical_stabilizer.py)\n",
    "\n",
    "Insert all variables as **imperial**"
   ]
  },
  {
   "cell_type": "code",
   "execution_count": 8,
   "id": "8e1b894e-820d-4395-b12e-1309b2c2531e",
   "metadata": {
    "tags": []
   },
   "outputs": [],
   "source": [
    "# Information pulled\n",
    "MainWingSurfaceArea = 0 # Main wing lifting surface area\n",
    "MainWingSurfaceSpan = 0 # Main wing lifting surface span\n",
    "MainWingchord = 0 # Main wing chord\n",
    "\n",
    "CanardSurfaceArea = 0 # Canard lifting surface area\n",
    "CanardSurfaceSpan = 0 # Canard lifting surface area\n",
    "CanardChord = 0 # Canard lifting surface area\n",
    "\n",
    "VertStabArea = 0 # Full vertical stabilizer surface area\n",
    "VertStabSpan = 0 # Full vertical stabilizer surface span\n",
    "VertStabChord = 0 # Rudder chord\n",
    "\n",
    "# ||| Forward Calculating |||\n",
    "# Given lifting surface area, lifting surface span, and lifting surface chord\n",
    "MainWingSurfaceArea = 0 # Main wing lifting surface area\n",
    "CanardSurfaceArea = 0 # Canard lifting surface area\n",
    "VertStabArea = 0 # Full vertical stabilizer surface area\n",
    "\n",
    "# Elevator\n",
    "\n",
    "# Aileron\n",
    "\n",
    "# Rudder"
   ]
  },
  {
   "cell_type": "markdown",
   "id": "d2e85f29-0703-46b4-93d5-cb6e5cdd38af",
   "metadata": {},
   "source": [
    "## Back Calculating Surfaces\n",
    "---\n",
    "Using a given ratio and a given surface shape to calculate required control shape"
   ]
  },
  {
   "cell_type": "code",
   "execution_count": 11,
   "id": "1017eeae-2399-40aa-9706-7c60eed27dc2",
   "metadata": {
    "tags": []
   },
   "outputs": [],
   "source": [
    "# ||| Back Calculating |||\n",
    "# Elevator\n",
    "ElevatorCA_LA = 0 # Elevator surface area over the lifting surface area | Given range is 0.15 - 0.4\n",
    "ElevatorCS_LS = 0 # Elevator surface span over the lifting surface span | Given range is 0.8 - 1\n",
    "ElevatorCC_LC = 0 # Elevator surface chord over the lifting cord | Given range is 0.2 - 0.4\n",
    "\n",
    "# Aileron\n",
    "AileronCA_LA = 0 # Aileron surface area over the lifting surface area | Given range is 0.03 - 0.12\n",
    "AileronCS_LS = 0 # Aileron surface span over the lifting surface span | Given range is 0.2 - 0.4\n",
    "AileronCC_LC = 0 # Aileron surface chord over the lifting cord | Given range is 0.15 - 0.3\n",
    "\n",
    "# Rudder\n",
    "RudderCA_LA = 0 # Rudder surface area over the lifting surface area | Given range is 0.15 - 0.35\n",
    "RudderCS_LS = 0 # Rudder surface span over the lifting surface span | Given range is 0.7 - 1\n",
    "RudderCC_LC = 0 # Rudder surface chord over the lifting cord | Given range is 0.15 - 0.4\n",
    "\n",
    "# ||| Calculations |||\n",
    "# Elevator\n",
    "ElevatorReqSA = ElevatorCA_LA * CanardSurfaceArea # Required Elevator control surface area given the canard area.\n",
    "ElevatorReqSS = ElevatorCS_LS * CanardSurfaceSpan # Required Elevator surface span\n",
    "ElevatorReqSC = ElevatorCC_LC * CanardChord # Required Elevator chord\n",
    "\n",
    "# Aileron\n",
    "AileronReqSA = AileronCA_LA * MainWingSurfaceArea # Required Aileron control surface area given the main wing area.\n",
    "AileronReqSS = ElevatorCS_LS * MainWingSurfaceSpan # Required Aileron surface span\n",
    "AileronReqSC = ElevatorCC_LC * MainWingchord # Required Aileron chord\n",
    "\n",
    "# Rudder\n",
    "RudderReqSA = RudderCA_LA * VertStabArea # Required Rudder control surface area given the main wing area.\n",
    "RudderReqSS = RudderCS_LS * VertStabSpan # Required Rudder surface span\n",
    "RudderReqSC = RudderCC_LC * VertStabChord # Required Rudder chord"
   ]
  },
  {
   "cell_type": "markdown",
   "id": "212fe08b-3f22-4ac1-8c71-e80791f9c812",
   "metadata": {},
   "source": [
    "## Forward Calculating Surfaces\n",
    "---\n",
    "Using a given *Control* surface shape **and** surface shape to calulate the ratio."
   ]
  },
  {
   "cell_type": "code",
   "execution_count": null,
   "id": "68ee4df2-79b9-4bce-8646-8b0385f1dc0d",
   "metadata": {},
   "outputs": [],
   "source": [
    "ElevatorCA_LA =  CanardSurfaceArea / ElevatorReqSA # Elevator control surface area over the lifting surface area | Given range is 0.15 - 0.4\n",
    "ElevatorCS_LS = CanardSurfaceSpan / ElevatorReqSS # Elevator control surface span over the lifting surface span | Given range is 0.8 - 1\n",
    "ElevatorCC_LC = CanardChord / ElevatorReqSC # Elevator control surface chord over the lifting cord | Given range is 0.2 - 0.4\n",
    "\n",
    "# Aileron\n",
    "AileronCA_LA = MainWingSurfaceArea / AileronReqSA # Aileron control surface area over the lifting surface area | Given range is 0.03 - 0.12\n",
    "AileronCS_LS = MainWingSurfaceSpan / AileronReqSS # Aileron control surface span over the lifting surface span | Given range is 0.2 - 0.4\n",
    "AileronCC_LC = MainWingchord / AileronReqSC # Aileron control surface chord over the lifting cord | Given range is 0.15 - 0.3\n",
    "\n",
    "# Rudder\n",
    "RudderCA_LA = VertStabArea / RudderReqSA # Rudder control surface area over the lifting surface area | Given range is 0.15 - 0.35\n",
    "RudderCS_LS = VertStabSpan / RudderReqSS # Rudder control surface span over the lifting surface span | Given range is 0.7 - 1\n",
    "RudderCC_LC = VertStabChord / RudderReqSC # Rudder control surface chord over the lifting cord | Given range is 0.15 - 0.4\n",
    "\n",
    "# ||| Calculations |||\n",
    "# Elevator\n",
    "ElevatorReqSA = ElevatorCA_LA * CanardSurfaceArea # Required Elevator control surface area given the canard area.\n",
    "ElevatorReqSS = ElevatorCS_LS * CanardSurfaceSpan # Required Elevator surface span\n",
    "ElevatorReqSC = ElevatorCC_LC * CanardChord # Required Elevator chord\n",
    "\n",
    "# Aileron\n",
    "AileronReqSA = AileronCA_LA * MainWingSurfaceArea # Required Aileron control surface area given the main wing area.\n",
    "AileronReqSS = ElevatorCS_LS * MainWingSurfaceSpan # Required Aileron surface span\n",
    "AileronReqSC = ElevatorCC_LC * MainWingchord # Required Aileron chord\n",
    "\n",
    "# Rudder\n",
    "RudderReqSA = RudderCA_LA * VertStabArea # Required Rudder control surface area given the main wing area.\n",
    "RudderReqSS = RudderCS_LS * VertStabSpan # Required Rudder surface span\n",
    "RudderReqSC = RudderCC_LC * VertStabChord # Required Rudder chord"
   ]
  }
 ],
 "metadata": {
  "kernelspec": {
   "display_name": "Python 3 (ipykernel)",
   "language": "python",
   "name": "python3"
  },
  "language_info": {
   "codemirror_mode": {
    "name": "ipython",
    "version": 3
   },
   "file_extension": ".py",
   "mimetype": "text/x-python",
   "name": "python",
   "nbconvert_exporter": "python",
   "pygments_lexer": "ipython3",
   "version": "3.11.3"
  }
 },
 "nbformat": 4,
 "nbformat_minor": 5
}
