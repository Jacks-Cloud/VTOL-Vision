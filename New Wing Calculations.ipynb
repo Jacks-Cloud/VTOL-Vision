{
 "cells": [
  {
   "cell_type": "markdown",
   "id": "df5aa70a-8b21-414c-b5cb-d5689b5ae9c5",
   "metadata": {},
   "source": [
    "## Canard Calculations\n",
    "---"
   ]
  },
  {
   "cell_type": "markdown",
   "id": "e8dd1431-91e3-47c5-b840-a0032125d63e",
   "metadata": {},
   "source": [
    "## Working Variables\n",
    "Insert all variables as imperial."
   ]
  },
  {
   "cell_type": "code",
   "execution_count": 1,
   "id": "e8bd0b17-d98e-4a82-9ff3-05b26d9acc2c",
   "metadata": {
    "tags": []
   },
   "outputs": [
    {
     "name": "stdout",
     "output_type": "stream",
     "text": [
      "Planform area is:\n",
      "0.44601445238890747 m^2\n",
      "691.3224012028065 in^2\n",
      "\n",
      "\n"
     ]
    }
   ],
   "source": [
    "Weight = 6 #lbs\n",
    "WingSectionLength = 14 #Desired Section length in inches\n",
    "WingSectionLengthM = WingSectionLength * 0.0254 #Section Length converted to meters\n",
    "WeightNewtons = Weight * 0.453592 * 9.81 # Lbs * lbsToKg * Gravity\n",
    "WingLoading = 20 # desired from Sport\n",
    "WingLoadingPa = WingLoading * 2.993 # oz/ft^2 to pa\n",
    "Planform = WeightNewtons/WingLoadingPa\n",
    "print(f'Planform area is:\\n{Planform} m^2\\n{Planform*1550} in^2\\n\\n')\n",
    "# 1.6lbs of batteries"
   ]
  },
  {
   "cell_type": "markdown",
   "id": "f968c2de-895d-4e89-9380-e115857904a3",
   "metadata": {},
   "source": [
    "## 1:2 Canard to Wing Ratio\n",
    "---"
   ]
  },
  {
   "cell_type": "code",
   "execution_count": 52,
   "id": "17a4f8dd-14a7-48e3-9469-dc68ff25d8bc",
   "metadata": {
    "tags": []
   },
   "outputs": [
    {
     "name": "stdout",
     "output_type": "stream",
     "text": [
      "Using Canard to Wing ratio of 1:2\n",
      "\n",
      "\n",
      "Planform area for canards is:\n",
      "0.14867148412963582 m^2\n",
      "230.44080040093553 in^2\n",
      "\n",
      "\n",
      "Planform area for wings is:\n",
      "0.29734296825927164 m^2\n",
      "460.88160080187106 in^2\n",
      "\n",
      "\n",
      "Assuming only 2 equal pieces of wing length for the canards: 14 inches\n",
      "\n",
      "The required canard cord length is:\n",
      "0.20904314416427985 meters\n",
      "8.230049490062115 inches\n",
      "\n",
      "\n",
      "Assuming 4 equal pieces of wing length for the main wings: 14 inches\n",
      "\n",
      "The required wing cord length is:\n",
      "0.20904314416427985 meters\n",
      "8.230049490062115 inches\n",
      "\n",
      "\n",
      "Given an assumed NACA 4412 and a canard cord length of:\n",
      "0.20904314416427985 meters\n",
      "8.230049490062115 inches\n",
      "\n",
      "\n",
      "The canard thickness at 30% cord (Maximum) is:\n",
      "0.02512698592854644 meters\n",
      "0.9892519487054662 inches\n",
      "\n",
      "\n",
      "Given an assumed NACA 4412 and a wing cord length of:\n",
      "0.20904314416427985 meters\n",
      "8.230049490062115 inches\n",
      "\n",
      "\n",
      "The wing thickness at 30% cord (Maximum) is:\n",
      "0.02512698592854644 meters\n",
      "0.9892519487054662 inches\n",
      "\n",
      "\n"
     ]
    }
   ],
   "source": [
    "print('Using Canard to Wing ratio of 1:2\\n\\n')\n",
    "CanardS = Planform/3 # Splitting the total planform area into 3 equal sections\n",
    "MainWingS = Planform*(2/3) # The Main wing is 2 of the 3 equal sections\n",
    "print(f'Planform area for canards is:\\n{CanardS} m^2\\n{CanardS*1550} in^2\\n\\n')\n",
    "print(f'Planform area for wings is:\\n{MainWingS} m^2\\n{MainWingS*1550} in^2\\n\\n')\n",
    "#Now that we have the required areas for the respective wings and canards, \n",
    "#we are going to calculate the required cord length given our fixed planform\n",
    "#area and inserted wing section length.\n",
    "print(f'Assuming only 2 equal pieces of wing length for the canards: {WingSectionLength} inches\\n')\n",
    "CanardCord = (CanardS/2)/WingSectionLengthM\n",
    "print(f'The required canard cord length is:\\n{CanardCord} meters\\n{CanardCord*39.3701} inches\\n\\n')\n",
    "print(f'Assuming 4 equal pieces of wing length for the main wings: {WingSectionLength} inches\\n')\n",
    "WingCord = (MainWingS/2)/(WingSectionLengthM * 2)\n",
    "print(f'The required wing cord length is:\\n{WingCord} meters\\n{WingCord*39.3701} inches\\n\\n')\n",
    "#Now we know the geomentry of a NACA 4412 so we can calculate the thickness given a cord length\n",
    "print(f'Given an assumed NACA 4412 and a canard cord length of:\\n{CanardCord} meters\\n{CanardCord*39.3701} inches\\n\\n')\n",
    "print(f'The canard thickness at 30% cord (Maximum) is:\\n{CanardCord*0.1202} meters\\n{CanardCord*39.3701*0.1202} inches\\n\\n')\n",
    "print(f'Given an assumed NACA 4412 and a wing cord length of:\\n{WingCord} meters\\n{WingCord*39.3701} inches\\n\\n')\n",
    "print(f'The wing thickness at 30% cord (Maximum) is:\\n{WingCord*0.1202} meters\\n{WingCord*39.3701*0.1202} inches\\n\\n')"
   ]
  },
  {
   "cell_type": "markdown",
   "id": "a80b345c-d4a1-4cb4-9240-6421aa742e51",
   "metadata": {},
   "source": [
    "### 1:3 Canard to Wing Ratio\n",
    "---"
   ]
  },
  {
   "cell_type": "code",
   "execution_count": 30,
   "id": "f3cdb6df-a2d9-43b1-9cd2-ba62f5b425f8",
   "metadata": {
    "tags": []
   },
   "outputs": [
    {
     "name": "stdout",
     "output_type": "stream",
     "text": [
      "Using Canard to Wing ratio of 1:3\n",
      "\n",
      "\n",
      "Planform area for canards is:\n",
      "0.11150361309722687 m^2\n",
      "172.83060030070163 in^2\n",
      "\n",
      "\n",
      "Planform area for wings is:\n",
      "0.3345108392916806 m^2\n",
      "518.4918009021048 in^2\n",
      "\n",
      "\n",
      "Assuming only 2 equal pieces of wing length for the canards: 14 inches\n",
      "\n",
      "The required canard cord length is:\n",
      "0.1567823581232099 meters\n",
      "6.172537117546586 inches\n",
      "\n",
      "\n",
      "Assuming 4 equal pieces of wing length for the main wings: 14 inches\n",
      "\n",
      "The required wing cord length is:\n",
      "0.23517353718481482 meters\n",
      "9.258805676319877 inches\n",
      "\n",
      "\n",
      "Given an assumed NACA 4412 and a canard cord length of:\n",
      "0.1567823581232099 meters\n",
      "6.172537117546586 inches\n",
      "\n",
      "\n",
      "The canard thickness at 30% cord (Maximum) is:\n",
      "0.01884523944640983 meters\n",
      "0.7419389615290997 inches\n",
      "\n",
      "\n",
      "Given an assumed NACA 4412 and a wing cord length of:\n",
      "0.23517353718481482 meters\n",
      "9.258805676319877 inches\n",
      "\n",
      "\n",
      "The wing thickness at 30% cord (Maximum) is:\n",
      "0.028267859169614742 meters\n",
      "1.1129084422936493 inches\n",
      "\n",
      "\n"
     ]
    }
   ],
   "source": [
    "print('Using Canard to Wing ratio of 1:3\\n\\n')\n",
    "CanardS = Planform/4 # Splitting the total planform area into 4 equal sections\n",
    "MainWingS = Planform*(3/4) # The Main wing is 3 of the 4 equal sections\n",
    "print(f'Planform area for canards is:\\n{CanardS} m^2\\n{CanardS*1550} in^2\\n\\n')\n",
    "print(f'Planform area for wings is:\\n{MainWingS} m^2\\n{MainWingS*1550} in^2\\n\\n')\n",
    "#Now that we have the required areas for the respective wings and canards, \n",
    "#we are going to calculate the required cord length given our fixed planform\n",
    "#area and inserted wing section length.\n",
    "print(f'Assuming only 2 equal pieces of wing length for the canards: {WingSectionLength} inches\\n')\n",
    "CanardCord = (CanardS/2)/WingSectionLengthM\n",
    "print(f'The required canard cord length is:\\n{CanardCord} meters\\n{CanardCord*39.3701} inches\\n\\n')\n",
    "print(f'Assuming 4 equal pieces of wing length for the main wings: {WingSectionLength} inches\\n')\n",
    "WingCord = (MainWingS/2)/(WingSectionLengthM * 2)\n",
    "print(f'The required wing cord length is:\\n{WingCord} meters\\n{WingCord*39.3701} inches\\n\\n')\n",
    "#Now we know the geomentry of a NACA 4412 so we can calculate the thickness given a cord length\n",
    "print(f'Given an assumed NACA 4412 and a canard cord length of:\\n{CanardCord} meters\\n{CanardCord*39.3701} inches\\n\\n')\n",
    "print(f'The canard thickness at 30% cord (Maximum) is:\\n{CanardCord*0.1202} meters\\n{CanardCord*39.3701*0.1202} inches\\n\\n')\n",
    "print(f'Given an assumed NACA 4412 and a wing cord length of:\\n{WingCord} meters\\n{WingCord*39.3701} inches\\n\\n')\n",
    "print(f'The wing thickness at 30% cord (Maximum) is:\\n{WingCord*0.1202} meters\\n{WingCord*39.3701*0.1202} inches\\n\\n')"
   ]
  },
  {
   "cell_type": "markdown",
   "id": "2e394a0a-d56f-4d08-9a79-2f08613aca3d",
   "metadata": {},
   "source": [
    "### 1:4 Canard to Wing Ratio\n",
    "---"
   ]
  },
  {
   "cell_type": "code",
   "execution_count": 31,
   "id": "26498653-744e-403d-956e-93a1dc98de07",
   "metadata": {
    "tags": []
   },
   "outputs": [
    {
     "name": "stdout",
     "output_type": "stream",
     "text": [
      "Using Canard to Wing ratio of 1:2\n",
      "\n",
      "\n",
      "Planform area for canards is:\n",
      "0.08920289047778149 m^2\n",
      "138.2644802405613 in^2\n",
      "\n",
      "\n",
      "Planform area for wings is:\n",
      "0.356811561911126 m^2\n",
      "553.0579209622454 in^2\n",
      "\n",
      "\n",
      "Assuming only 2 equal pieces of wing length for the canards: 14 inches\n",
      "\n",
      "The required canard cord length is:\n",
      "0.1254258864985679 meters\n",
      "4.938029694037268 inches\n",
      "\n",
      "\n",
      "Assuming 4 equal pieces of wing length for the main wings: 14 inches\n",
      "\n",
      "The required wing cord length is:\n",
      "0.25085177299713585 meters\n",
      "9.876059388074538 inches\n",
      "\n",
      "\n",
      "Given an assumed NACA 4412 and a canard cord length of:\n",
      "0.1254258864985679 meters\n",
      "4.938029694037268 inches\n",
      "\n",
      "\n",
      "The canard thickness at 30% cord (Maximum) is:\n",
      "0.01507619155712786 meters\n",
      "0.5935511692232796 inches\n",
      "\n",
      "\n",
      "Given an assumed NACA 4412 and a wing cord length of:\n",
      "0.25085177299713585 meters\n",
      "9.876059388074538 inches\n",
      "\n",
      "\n",
      "The wing thickness at 30% cord (Maximum) is:\n",
      "0.030152383114255728 meters\n",
      "1.1871023384465593 inches\n",
      "\n",
      "\n"
     ]
    }
   ],
   "source": [
    "print('Using Canard to Wing ratio of 1:2\\n\\n')\n",
    "CanardS = Planform/5 # Splitting the total planform area into 5 equal sections\n",
    "MainWingS = Planform*(4/5) # The Main wing is 4 of the 5 equal sections\n",
    "print(f'Planform area for canards is:\\n{CanardS} m^2\\n{CanardS*1550} in^2\\n\\n')\n",
    "print(f'Planform area for wings is:\\n{MainWingS} m^2\\n{MainWingS*1550} in^2\\n\\n')\n",
    "#Now that we have the required areas for the respective wings and canards, \n",
    "#we are going to calculate the required cord length given our fixed planform\n",
    "#area and inserted wing section length.\n",
    "print(f'Assuming only 2 equal pieces of wing length for the canards: {WingSectionLength} inches\\n')\n",
    "CanardCord = (CanardS/2)/WingSectionLengthM\n",
    "print(f'The required canard cord length is:\\n{CanardCord} meters\\n{CanardCord*39.3701} inches\\n\\n')\n",
    "print(f'Assuming 4 equal pieces of wing length for the main wings: {WingSectionLength} inches\\n')\n",
    "WingCord = (MainWingS/2)/(WingSectionLengthM * 2)\n",
    "print(f'The required wing cord length is:\\n{WingCord} meters\\n{WingCord*39.3701} inches\\n\\n')\n",
    "#Now we know the geomentry of a NACA 4412 so we can calculate the thickness given a cord length\n",
    "print(f'Given an assumed NACA 4412 and a canard cord length of:\\n{CanardCord} meters\\n{CanardCord*39.3701} inches\\n\\n')\n",
    "print(f'The canard thickness at 30% cord (Maximum) is:\\n{CanardCord*0.1202} meters\\n{CanardCord*39.3701*0.1202} inches\\n\\n')\n",
    "print(f'Given an assumed NACA 4412 and a wing cord length of:\\n{WingCord} meters\\n{WingCord*39.3701} inches\\n\\n')\n",
    "print(f'The wing thickness at 30% cord (Maximum) is:\\n{WingCord*0.1202} meters\\n{WingCord*39.3701*0.1202} inches\\n\\n')"
   ]
  },
  {
   "cell_type": "markdown",
   "id": "7423a5ef-8801-4aff-b8da-51731673183f",
   "metadata": {},
   "source": [
    "## Dual Wing Calculations\n",
    "---\n",
    "Both Wings are considered equal"
   ]
  },
  {
   "cell_type": "code",
   "execution_count": 47,
   "id": "8abde9d9-78d6-485c-b59d-47eae42744aa",
   "metadata": {
    "tags": []
   },
   "outputs": [
    {
     "name": "stdout",
     "output_type": "stream",
     "text": [
      "Using Canard to Wing ratio that is equal\n",
      "\n",
      "\n",
      "Planform area for the wings is:\n",
      "0.44601445238890747 m^2\n",
      "691.3224012028065 in^2\n",
      "\n",
      "\n",
      "Assuming only 2 equal pieces of wing length: 14 inches\n",
      "\n",
      "The required wing cord length is:\n",
      "0.3135647162464198 meters\n",
      "12.345074235093172 inches\n",
      "\n",
      "\n",
      "Assuming 4 equal pieces of wing length: 14 inches\n",
      "\n",
      "The required wing cord length is:\n",
      "0.1567823581232099 meters\n",
      "6.172537117546586 inches\n",
      "\n",
      "\n",
      "Given an assumed NACA 4412 and a wing cord length for 2 equal sections of:\n",
      "0.3135647162464198 meters\n",
      "12.345074235093172 inches\n",
      "\n",
      "\n",
      "The canard thickness at 30% cord (Maximum) is:\n",
      "0.03769047889281966 meters\n",
      "1.4838779230581993 inches\n",
      "\n",
      "\n",
      "Given an assumed NACA 4412 and a wing cord length for 2 equal sections of:\n",
      "0.1567823581232099 meters\n",
      "6.172537117546586 inches\n",
      "\n",
      "\n",
      "The wing thickness at 30% cord (Maximum) is:\n",
      "0.01884523944640983 meters\n",
      "0.7419389615290997 inches\n",
      "\n",
      "\n"
     ]
    }
   ],
   "source": [
    "print('Using Canard to Wing ratio that is equal\\n\\n')\n",
    "MainWingS = Planform\n",
    "print(f'Planform area for the wings is:\\n{MainWingS} m^2\\n{MainWingS*1550} in^2\\n\\n')\n",
    "#Now that we have the required areas for the respective wings\n",
    "#we are going to calculate the required cord length given our fixed planform\n",
    "#area and inserted wing section length.\n",
    "print(f'Assuming only 2 equal pieces of wing length: {WingSectionLength} inches\\n')\n",
    "WingCord1 = (MainWingS/4)/WingSectionLengthM\n",
    "print(f'The required wing cord length is:\\n{WingCord1} meters\\n{WingCord1*39.3701} inches\\n\\n')\n",
    "print(f'Assuming 4 equal pieces of wing length: {WingSectionLength} inches\\n')\n",
    "WingCord2 = (MainWingS/4)/(WingSectionLengthM * 2)\n",
    "print(f'The required wing cord length is:\\n{WingCord2} meters\\n{WingCord2*39.3701} inches\\n\\n')\n",
    "#Now we know the geomentry of a NACA 4412 so we can calculate the thickness given a cord length\n",
    "print(f'Given an assumed NACA 4412 and a wing cord length for 2 equal sections of:\\n{WingCord1} meters\\n{WingCord1*39.3701} inches\\n\\n')\n",
    "print(f'The canard thickness at 30% cord (Maximum) is:\\n{WingCord1*0.1202} meters\\n{WingCord1*39.3701*0.1202} inches\\n\\n')\n",
    "print(f'Given an assumed NACA 4412 and a wing cord length for 2 equal sections of:\\n{WingCord2} meters\\n{WingCord2*39.3701} inches\\n\\n')\n",
    "print(f'The wing thickness at 30% cord (Maximum) is:\\n{WingCord2*0.1202} meters\\n{WingCord2*39.3701*0.1202} inches\\n\\n')"
   ]
  },
  {
   "cell_type": "code",
   "execution_count": null,
   "id": "a5f69764-eb58-4fab-a14f-9c81ad38620c",
   "metadata": {},
   "outputs": [],
   "source": []
  },
  {
   "cell_type": "code",
   "execution_count": null,
   "id": "cf429801-8376-4b27-ba89-bf491101bb58",
   "metadata": {},
   "outputs": [],
   "source": []
  }
 ],
 "metadata": {
  "kernelspec": {
   "display_name": "Python 3 (ipykernel)",
   "language": "python",
   "name": "python3"
  },
  "language_info": {
   "codemirror_mode": {
    "name": "ipython",
    "version": 3
   },
   "file_extension": ".py",
   "mimetype": "text/x-python",
   "name": "python",
   "nbconvert_exporter": "python",
   "pygments_lexer": "ipython3",
   "version": "3.11.5"
  }
 },
 "nbformat": 4,
 "nbformat_minor": 5
}
